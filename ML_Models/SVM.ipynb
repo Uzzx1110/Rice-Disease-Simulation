{
 "cells": [
  {
   "cell_type": "code",
   "execution_count": 2,
   "id": "e1572a2a",
   "metadata": {},
   "outputs": [
    {
     "name": "stdout",
     "output_type": "stream",
     "text": [
      "[INFO] Loaded training images: (2100, 224, 224, 3), labels: (2100,)\n"
     ]
    },
    {
     "name": "stderr",
     "output_type": "stream",
     "text": [
      "C:\\Users\\uzmap\\AppData\\Local\\Temp\\ipykernel_33940\\3456836568.py:40: UserWarning: `input_shape` is undefined or non-square, or `rows` is not in [96, 128, 160, 192, 224]. Weights for input shape (224, 224) will be loaded as the default.\n",
      "  base_model = MobileNetV2(weights='imagenet', include_top=False, pooling='avg')\n"
     ]
    },
    {
     "name": "stdout",
     "output_type": "stream",
     "text": [
      "\u001b[1m66/66\u001b[0m \u001b[32m━━━━━━━━━━━━━━━━━━━━\u001b[0m\u001b[37m\u001b[0m \u001b[1m16s\u001b[0m 228ms/step\n",
      "[INFO] Extracted training features: (2100, 1280)\n",
      "\n",
      "[INFO] Test Set Classification Report:\n",
      "                       precision    recall  f1-score   support\n",
      "\n",
      "bacterial_leaf_blight       0.97      1.00      0.99        70\n",
      "           brown_spot       0.83      0.96      0.89        70\n",
      "              healthy       0.97      0.93      0.95        70\n",
      "           leaf_blast       0.90      0.80      0.85        70\n",
      "           leaf_scald       0.97      0.99      0.98        70\n",
      "    narrow_brown_spot       1.00      0.96      0.98        70\n",
      "\n",
      "             accuracy                           0.94       420\n",
      "            macro avg       0.94      0.94      0.94       420\n",
      "         weighted avg       0.94      0.94      0.94       420\n",
      "\n"
     ]
    }
   ],
   "source": [
    "import os\n",
    "import cv2\n",
    "import numpy as np\n",
    "from sklearn.model_selection import train_test_split\n",
    "from sklearn.svm import SVC\n",
    "from sklearn.metrics import classification_report, confusion_matrix\n",
    "from sklearn.preprocessing import LabelEncoder, StandardScaler\n",
    "from tensorflow.keras.applications import MobileNetV2\n",
    "from tensorflow.keras.applications.mobilenet_v2 import preprocess_input\n",
    "\n",
    "# Set paths\n",
    "train_dataset_path = r'D:\\Rice-Disease-Simulation\\data\\train'\n",
    "val_dataset_path = r'D:\\Rice-Disease-Simulation\\data\\validation'\n",
    "img_size = (224, 224)\n",
    "\n",
    "# Load and preprocess training images\n",
    "def load_images_and_labels(dataset_path):\n",
    "    images = []\n",
    "    labels = []\n",
    "    for class_name in os.listdir(dataset_path):\n",
    "        class_path = os.path.join(dataset_path, class_name)\n",
    "        if not os.path.isdir(class_path): continue\n",
    "        for img_name in os.listdir(class_path):\n",
    "            img_path = os.path.join(class_path, img_name)\n",
    "            img = cv2.imread(img_path)\n",
    "            if img is None:\n",
    "                print(f\"[WARNING] Couldn't read {img_path}\")\n",
    "                continue\n",
    "            img = cv2.resize(img, img_size)\n",
    "            img = preprocess_input(img)\n",
    "            images.append(img)\n",
    "            labels.append(class_name)\n",
    "    return np.array(images, dtype=np.float32), np.array(labels)\n",
    "\n",
    "# Load training data\n",
    "train_images, train_labels = load_images_and_labels(train_dataset_path)\n",
    "print(f\"[INFO] Loaded training images: {train_images.shape}, labels: {train_labels.shape}\")\n",
    "\n",
    "# Load MobileNetV2 for feature extraction\n",
    "base_model = MobileNetV2(weights='imagenet', include_top=False, pooling='avg')\n",
    "\n",
    "# Extract features\n",
    "train_features = base_model.predict(train_images, batch_size=32, verbose=1)\n",
    "print(f\"[INFO] Extracted training features: {train_features.shape}\")\n",
    "\n",
    "# Encode labels\n",
    "le = LabelEncoder()\n",
    "train_labels_encoded = le.fit_transform(train_labels)\n",
    "\n",
    "# Scale features\n",
    "scaler = StandardScaler()\n",
    "train_features_scaled = scaler.fit_transform(train_features)\n",
    "\n",
    "# Train/test split\n",
    "X_train, X_test, y_train, y_test = train_test_split(\n",
    "    train_features_scaled, train_labels_encoded,\n",
    "    test_size=0.2, stratify=train_labels_encoded, random_state=42\n",
    ")\n",
    "\n",
    "# Train SVM\n",
    "svm_model = SVC(kernel='rbf', C=1.0, gamma='scale')\n",
    "svm_model.fit(X_train, y_train)\n",
    "\n",
    "# Evaluate on test split\n",
    "y_pred_test = svm_model.predict(X_test)\n",
    "print(\"\\n[INFO] Test Set Classification Report:\")\n",
    "print(classification_report(y_test, y_pred_test, target_names=le.classes_))"
   ]
  },
  {
   "cell_type": "markdown",
   "id": "51615342",
   "metadata": {},
   "source": [
    "untouched validation set"
   ]
  },
  {
   "cell_type": "code",
   "execution_count": 3,
   "id": "5bfb95cf",
   "metadata": {},
   "outputs": [
    {
     "name": "stdout",
     "output_type": "stream",
     "text": [
      "[INFO] Extracted 528 validation images with shape: (528, 224, 224, 3)\n",
      "\u001b[1m17/17\u001b[0m \u001b[32m━━━━━━━━━━━━━━━━━━━━\u001b[0m\u001b[37m\u001b[0m \u001b[1m3s\u001b[0m 189ms/step\n",
      "[INFO] Validation feature shape: (528, 1280)\n",
      "\n",
      "[INFO] Validation Set Classification Report:\n",
      "                       precision    recall  f1-score   support\n",
      "\n",
      "bacterial_leaf_blight       0.99      1.00      0.99        88\n",
      "           brown_spot       0.87      0.90      0.88        88\n",
      "              healthy       0.90      0.93      0.92        88\n",
      "           leaf_blast       0.84      0.78      0.81        88\n",
      "           leaf_scald       0.99      0.99      0.99        88\n",
      "    narrow_brown_spot       0.98      0.97      0.97        88\n",
      "\n",
      "             accuracy                           0.93       528\n",
      "            macro avg       0.93      0.93      0.93       528\n",
      "         weighted avg       0.93      0.93      0.93       528\n",
      "\n"
     ]
    }
   ],
   "source": [
    "# Extract validation features\n",
    "def extract_features_from_folder(folder_path):\n",
    "    images = []\n",
    "    labels = []\n",
    "    for class_name in os.listdir(folder_path):\n",
    "        class_path = os.path.join(folder_path, class_name)\n",
    "        if not os.path.isdir(class_path): continue\n",
    "        for img_name in os.listdir(class_path):\n",
    "            img_path = os.path.join(class_path, img_name)\n",
    "            img = cv2.imread(img_path)\n",
    "            if img is None:\n",
    "                print(f\"[WARNING] Couldn't read {img_path}\")\n",
    "                continue\n",
    "            img = cv2.resize(img, img_size)\n",
    "            img = preprocess_input(img)\n",
    "            images.append(img)\n",
    "            labels.append(class_name)\n",
    "    images = np.array(images, dtype=np.float32)\n",
    "    print(f\"[INFO] Extracted {len(images)} validation images with shape: {images.shape}\")\n",
    "    features = base_model.predict(images, batch_size=32, verbose=1)\n",
    "    print(f\"[INFO] Validation feature shape: {features.shape}\")\n",
    "    return features, labels\n",
    "\n",
    "# Run validation\n",
    "X_val, y_val = extract_features_from_folder(val_dataset_path)\n",
    "X_val_scaled = scaler.transform(X_val)\n",
    "y_val_encoded = le.transform(y_val)\n",
    "\n",
    "# Predict on validation\n",
    "y_pred_val = svm_model.predict(X_val_scaled)\n",
    "print(\"\\n[INFO] Validation Set Classification Report:\")\n",
    "print(classification_report(y_val_encoded, y_pred_val, target_names=le.classes_))"
   ]
  },
  {
   "cell_type": "code",
   "execution_count": null,
   "id": "cd82d448",
   "metadata": {},
   "outputs": [],
   "source": []
  }
 ],
 "metadata": {
  "kernelspec": {
   "display_name": "pythonPractice",
   "language": "python",
   "name": "python3"
  },
  "language_info": {
   "codemirror_mode": {
    "name": "ipython",
    "version": 3
   },
   "file_extension": ".py",
   "mimetype": "text/x-python",
   "name": "python",
   "nbconvert_exporter": "python",
   "pygments_lexer": "ipython3",
   "version": "3.12.4"
  }
 },
 "nbformat": 4,
 "nbformat_minor": 5
}
