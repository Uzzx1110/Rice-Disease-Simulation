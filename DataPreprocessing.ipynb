{
 "cells": [
  {
   "cell_type": "raw",
   "id": "6b8c8cb8",
   "metadata": {
    "vscode": {
     "languageId": "raw"
    }
   },
   "source": [
    "Model\t                        Reason\n",
    "SVM (Support Vector Machine)\tPerforms well in high-dimensional spaces and small datasets.\n",
    "Random Forest (RF)\t            Robust to overfitting and great for feature importance analysis.\n",
    "XGBoost\t                        Highly optimized gradient boosting, often achieves strong results.\n",
    "KNN (k-Nearest Neighbors)\t    Simple and interpretable; acts as a baseline.\n",
    "Logistic Regression\t            Good as a baseline linear classifier for quick benchmarking.\n",
    "\n",
    "These require feature extraction (e.g., color histograms, texture, shape).\n",
    "\n",
    "Deep Learning Models (raw images)\n",
    "Model\t                        Reason\n",
    "Simple CNN (custom)\t            Light and interpretable, good for initial comparisons.\n",
    "VGG16 (pretrained)\t            Strong baseline for transfer learning with small datasets.\n",
    "ResNet50 (pretrained)\t        Captures deeper patterns using skip connections; generalizes well.\n",
    "EfficientNetB0\t                Balances accuracy and speed; ideal for deployment scenarios.\n",
    "MobileNetV2\t                    Lightweight and fast; good for mobile or edge inference."
   ]
  },
  {
   "cell_type": "code",
   "execution_count": 1,
   "id": "60f6b188",
   "metadata": {},
   "outputs": [],
   "source": [
    "def load_data_for_ml(base_dir, size=(128, 128)):\n",
    "    features, labels = [], []\n",
    "    for label in os.listdir(base_dir):\n",
    "        for fname in os.listdir(os.path.join(base_dir, label)):\n",
    "            fpath = os.path.join(base_dir, label, fname)\n",
    "            img = cv2.imread(fpath)\n",
    "            if img is None: continue\n",
    "            img = cv2.resize(img, size)\n",
    "            hsv = cv2.cvtColor(img, cv2.COLOR_BGR2HSV)\n",
    "            hist = cv2.calcHist([hsv], [0, 1], None, [8, 8], [0, 180, 0, 256])\n",
    "            features.append(cv2.normalize(hist, hist).flatten())\n",
    "            labels.append(label)\n",
    "    y = LabelEncoder().fit_transform(labels)\n",
    "    return np.array(features), np.array(y)"
   ]
  },
  {
   "cell_type": "code",
   "execution_count": 2,
   "id": "560132e6",
   "metadata": {},
   "outputs": [],
   "source": [
    "def load_data_for_dl(base_dir, size=(224, 224)):\n",
    "    images, labels = [], []\n",
    "    for label in os.listdir(base_dir):\n",
    "        for fname in os.listdir(os.path.join(base_dir, label)):\n",
    "            fpath = os.path.join(base_dir, label, fname)\n",
    "            img = tf.keras.utils.load_img(fpath, target_size=size)\n",
    "            img = tf.keras.utils.img_to_array(img) / 255.0\n",
    "            images.append(img)\n",
    "            labels.append(label)\n",
    "    y = LabelEncoder().fit_transform(labels)\n",
    "    return np.array(images), to_categorical(y)"
   ]
  },
  {
   "cell_type": "code",
   "execution_count": 3,
   "id": "5a386a7b",
   "metadata": {},
   "outputs": [],
   "source": [
    "def load_dataset(model_type=\"ml\", base_dir=\"./dataset\", size=(128, 128)):\n",
    "    if model_type == \"ml\":\n",
    "        return load_data_for_ml(base_dir, size)\n",
    "    elif model_type == \"dl\":\n",
    "        return load_data_for_dl(base_dir, size=(224, 224))\n",
    "    else:\n",
    "        raise ValueError(\"model_type must be 'ml' or 'dl'\")"
   ]
  },
  {
   "cell_type": "code",
   "execution_count": null,
   "id": "91abc132",
   "metadata": {},
   "outputs": [],
   "source": []
  }
 ],
 "metadata": {
  "kernelspec": {
   "display_name": "pythonPractice",
   "language": "python",
   "name": "python3"
  },
  "language_info": {
   "codemirror_mode": {
    "name": "ipython",
    "version": 3
   },
   "file_extension": ".py",
   "mimetype": "text/x-python",
   "name": "python",
   "nbconvert_exporter": "python",
   "pygments_lexer": "ipython3",
   "version": "3.12.4"
  }
 },
 "nbformat": 4,
 "nbformat_minor": 5
}
